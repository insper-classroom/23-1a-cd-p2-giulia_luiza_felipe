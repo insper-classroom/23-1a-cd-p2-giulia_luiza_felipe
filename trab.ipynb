{
 "cells": [
  {
   "cell_type": "markdown",
   "id": "26f1a75d",
   "metadata": {},
   "source": [
    "# Projeto 2"
   ]
  },
  {
   "cell_type": "markdown",
   "id": "13e7a04c",
   "metadata": {},
   "source": [
    "# Luiza Coutinho e Giulia Roggero"
   ]
  },
  {
   "cell_type": "markdown",
   "id": "bd018c78",
   "metadata": {},
   "source": [
    "https://www.gov.br/inep/pt-br/acesso-a-informacao/dados-abertos/microdados/enem-por-escola"
   ]
  },
  {
   "cell_type": "markdown",
   "id": "5b45d1f6",
   "metadata": {},
   "source": [
    "# Com base nas variaveis da base de micro dados disponibilizada no link acima, esse projeto tem o intuito usar as colunas: nº de participantes do ENEM, Estados do Brasil, Média da nota do ENEM, Porte da escola e localização da escola, prever se uma escola é pública ou privada."
   ]
  },
  {
   "cell_type": "markdown",
   "id": "d537dcb2",
   "metadata": {},
   "source": [
    "Eliminamos as colunas que consideramos não necessárias, pois não iriam afetar a resposta que procurávamos, para contruir um modelo para a nossa previsão.\n",
    "Escolhemos como variável TARGET a coluna TIPO, que é uma coluna qual adicionamos transformando a coluna \"TP_DEPENDENCIA_ADM_ESCOLA\" de quantitativa para qualitativa, nomeando-a de \"TIPO\", visto que tornaria nossa análise exploratória e nosso modelo melhor e mais preciso quando fossemos realizá-los.\n",
    "A nossa variável TARGET (\"TIPO\") diz se os dados referentes a aquela linha são de uma escola pública ou privada."
   ]
  },
  {
   "cell_type": "markdown",
   "id": "d11d9b35",
   "metadata": {},
   "source": [
    "# Dicionário das váriaveis FEATURES:"
   ]
  },
  {
   "cell_type": "markdown",
   "id": "3300dc7d",
   "metadata": {},
   "source": [
    " ### Quantitativas:"
   ]
  },
  {
   "cell_type": "markdown",
   "id": "01614bd8",
   "metadata": {},
   "source": [
    "NU_PARTICIPANTES: Número de Participantes do Enem que cumprem os requisitos de participação no cálculo da média e possui necessidade especial.\n",
    "    NU_MEDIA_TOT: Média Total (Redação e Prova Objetiva) Ensino Médio Regular corrigida pelo número de participantes."
   ]
  },
  {
   "cell_type": "markdown",
   "id": "62079648",
   "metadata": {},
   "source": [
    "### Qualitativas:"
   ]
  },
  {
   "cell_type": "markdown",
   "id": "ed6bf1bd",
   "metadata": {},
   "source": [
    "SG_UF_ESCOLA: Sigla da Unidade da Federação da escola.\n",
    "PORTE_ESCOLA: O indicador de porte da escola defini o tamanho da escola pelo número de alunos matriculados no último ano do Ensino médio.\n",
    "TP_LOCALIZACAO_ESCOLA: Tipo de Localização da escola. "
   ]
  },
  {
   "cell_type": "markdown",
   "id": "565f451b",
   "metadata": {},
   "source": [
    "Escolhemos tais variáveis como FEATURES, pois consideramos que essas iriam colaborar com o desenvolvimento do nosso objetivo neste projeto."
   ]
  },
  {
   "cell_type": "code",
   "execution_count": 25,
   "id": "00d674c2",
   "metadata": {},
   "outputs": [],
   "source": [
    "%matplotlib inline\n",
    "import pandas as pd\n",
    "import matplotlib.pyplot as plt\n",
    "import os\n",
    "from numpy import arange\n",
    "import numpy as np\n",
    "from sklearn.model_selection import train_test_split\n",
    "from sklearn import tree\n",
    "from sklearn.naive_bayes import GaussianNB\n",
    "from IPython.display import display\n",
    "import seaborn as sns"
   ]
  },
  {
   "cell_type": "code",
   "execution_count": 26,
   "id": "25518fc4",
   "metadata": {
    "scrolled": true
   },
   "outputs": [
    {
     "data": {
      "text/html": [
       "<div>\n",
       "<style scoped>\n",
       "    .dataframe tbody tr th:only-of-type {\n",
       "        vertical-align: middle;\n",
       "    }\n",
       "\n",
       "    .dataframe tbody tr th {\n",
       "        vertical-align: top;\n",
       "    }\n",
       "\n",
       "    .dataframe thead th {\n",
       "        text-align: right;\n",
       "    }\n",
       "</style>\n",
       "<table border=\"1\" class=\"dataframe\">\n",
       "  <thead>\n",
       "    <tr style=\"text-align: right;\">\n",
       "      <th></th>\n",
       "      <th>NU_ANO</th>\n",
       "      <th>SG_UF_ESCOLA</th>\n",
       "      <th>NO_MUNICIPIO_ESCOLA</th>\n",
       "      <th>NO_ESCOLA_EDUCACENSO</th>\n",
       "      <th>TP_DEPENDENCIA_ADM_ESCOLA</th>\n",
       "      <th>NU_PARTICIPANTES</th>\n",
       "      <th>NU_MEDIA_TOT</th>\n",
       "      <th>PORTE_ESCOLA</th>\n",
       "      <th>Unnamed: 8</th>\n",
       "      <th>TP_LOCALIZACAO_ESCOLA</th>\n",
       "    </tr>\n",
       "  </thead>\n",
       "  <tbody>\n",
       "    <tr>\n",
       "      <th>0</th>\n",
       "      <td>2007</td>\n",
       "      <td>RO</td>\n",
       "      <td>Porto Velho</td>\n",
       "      <td>CENTRO DE ENSINO CLASSE A</td>\n",
       "      <td>4</td>\n",
       "      <td>140</td>\n",
       "      <td>69.03</td>\n",
       "      <td>Maior que 90 alunos</td>\n",
       "      <td>NaN</td>\n",
       "      <td>1</td>\n",
       "    </tr>\n",
       "    <tr>\n",
       "      <th>1</th>\n",
       "      <td>2006</td>\n",
       "      <td>RO</td>\n",
       "      <td>Porto Velho</td>\n",
       "      <td>CENTRO DE ENSINO CLASSE A</td>\n",
       "      <td>4</td>\n",
       "      <td>139</td>\n",
       "      <td>57.82</td>\n",
       "      <td>Maior que 90 alunos</td>\n",
       "      <td>NaN</td>\n",
       "      <td>1</td>\n",
       "    </tr>\n",
       "    <tr>\n",
       "      <th>2</th>\n",
       "      <td>2005</td>\n",
       "      <td>RO</td>\n",
       "      <td>Porto Velho</td>\n",
       "      <td>CENTRO DE ENSINO CLASSE A</td>\n",
       "      <td>4</td>\n",
       "      <td>145</td>\n",
       "      <td>64.83</td>\n",
       "      <td>Maior que 90 alunos</td>\n",
       "      <td>NaN</td>\n",
       "      <td>1</td>\n",
       "    </tr>\n",
       "    <tr>\n",
       "      <th>3</th>\n",
       "      <td>2008</td>\n",
       "      <td>RO</td>\n",
       "      <td>Porto Velho</td>\n",
       "      <td>CENTRO DE ENSINO CLASSE A</td>\n",
       "      <td>4</td>\n",
       "      <td>171</td>\n",
       "      <td>NaN</td>\n",
       "      <td>Maior que 90 alunos</td>\n",
       "      <td>NaN</td>\n",
       "      <td>1</td>\n",
       "    </tr>\n",
       "    <tr>\n",
       "      <th>4</th>\n",
       "      <td>2007</td>\n",
       "      <td>RO</td>\n",
       "      <td>Porto Velho</td>\n",
       "      <td>CENTRO EDUCACIONAL MOJUCA</td>\n",
       "      <td>4</td>\n",
       "      <td>12</td>\n",
       "      <td>58.84</td>\n",
       "      <td>De 1 a 30 alunos</td>\n",
       "      <td>NaN</td>\n",
       "      <td>1</td>\n",
       "    </tr>\n",
       "    <tr>\n",
       "      <th>...</th>\n",
       "      <td>...</td>\n",
       "      <td>...</td>\n",
       "      <td>...</td>\n",
       "      <td>...</td>\n",
       "      <td>...</td>\n",
       "      <td>...</td>\n",
       "      <td>...</td>\n",
       "      <td>...</td>\n",
       "      <td>...</td>\n",
       "      <td>...</td>\n",
       "    </tr>\n",
       "    <tr>\n",
       "      <th>172300</th>\n",
       "      <td>2013</td>\n",
       "      <td>DF</td>\n",
       "      <td>BrasÃ­lia</td>\n",
       "      <td>CED 310 DE SANTA MARIA</td>\n",
       "      <td>2</td>\n",
       "      <td>147</td>\n",
       "      <td>NaN</td>\n",
       "      <td>Maior que 90 alunos</td>\n",
       "      <td>NaN</td>\n",
       "      <td>1</td>\n",
       "    </tr>\n",
       "    <tr>\n",
       "      <th>172301</th>\n",
       "      <td>2014</td>\n",
       "      <td>DF</td>\n",
       "      <td>BrasÃ­lia</td>\n",
       "      <td>CED 310 DE SANTA MARIA</td>\n",
       "      <td>2</td>\n",
       "      <td>100</td>\n",
       "      <td>NaN</td>\n",
       "      <td>Maior que 90 alunos</td>\n",
       "      <td>NaN</td>\n",
       "      <td>1</td>\n",
       "    </tr>\n",
       "    <tr>\n",
       "      <th>172302</th>\n",
       "      <td>2015</td>\n",
       "      <td>DF</td>\n",
       "      <td>BrasÃ­lia</td>\n",
       "      <td>CED 310 DE SANTA MARIA</td>\n",
       "      <td>2</td>\n",
       "      <td>152</td>\n",
       "      <td>NaN</td>\n",
       "      <td>Maior que 90 alunos</td>\n",
       "      <td>NaN</td>\n",
       "      <td>1</td>\n",
       "    </tr>\n",
       "    <tr>\n",
       "      <th>172303</th>\n",
       "      <td>2014</td>\n",
       "      <td>DF</td>\n",
       "      <td>BrasÃ­lia</td>\n",
       "      <td>COL IMPACTO</td>\n",
       "      <td>4</td>\n",
       "      <td>10</td>\n",
       "      <td>NaN</td>\n",
       "      <td>De 1 a 30 alunos</td>\n",
       "      <td>NaN</td>\n",
       "      <td>1</td>\n",
       "    </tr>\n",
       "    <tr>\n",
       "      <th>172304</th>\n",
       "      <td>2015</td>\n",
       "      <td>DF</td>\n",
       "      <td>BrasÃ­lia</td>\n",
       "      <td>COL IMPACTO</td>\n",
       "      <td>4</td>\n",
       "      <td>20</td>\n",
       "      <td>NaN</td>\n",
       "      <td>De 1 a 30 alunos</td>\n",
       "      <td>NaN</td>\n",
       "      <td>1</td>\n",
       "    </tr>\n",
       "  </tbody>\n",
       "</table>\n",
       "<p>172305 rows × 10 columns</p>\n",
       "</div>"
      ],
      "text/plain": [
       "        NU_ANO SG_UF_ESCOLA NO_MUNICIPIO_ESCOLA       NO_ESCOLA_EDUCACENSO  \\\n",
       "0         2007           RO         Porto Velho  CENTRO DE ENSINO CLASSE A   \n",
       "1         2006           RO         Porto Velho  CENTRO DE ENSINO CLASSE A   \n",
       "2         2005           RO         Porto Velho  CENTRO DE ENSINO CLASSE A   \n",
       "3         2008           RO         Porto Velho  CENTRO DE ENSINO CLASSE A   \n",
       "4         2007           RO         Porto Velho  CENTRO EDUCACIONAL MOJUCA   \n",
       "...        ...          ...                 ...                        ...   \n",
       "172300    2013           DF           BrasÃ­lia     CED 310 DE SANTA MARIA   \n",
       "172301    2014           DF           BrasÃ­lia     CED 310 DE SANTA MARIA   \n",
       "172302    2015           DF           BrasÃ­lia     CED 310 DE SANTA MARIA   \n",
       "172303    2014           DF           BrasÃ­lia                COL IMPACTO   \n",
       "172304    2015           DF           BrasÃ­lia                COL IMPACTO   \n",
       "\n",
       "        TP_DEPENDENCIA_ADM_ESCOLA  NU_PARTICIPANTES  NU_MEDIA_TOT  \\\n",
       "0                               4               140         69.03   \n",
       "1                               4               139         57.82   \n",
       "2                               4               145         64.83   \n",
       "3                               4               171           NaN   \n",
       "4                               4                12         58.84   \n",
       "...                           ...               ...           ...   \n",
       "172300                          2               147           NaN   \n",
       "172301                          2               100           NaN   \n",
       "172302                          2               152           NaN   \n",
       "172303                          4                10           NaN   \n",
       "172304                          4                20           NaN   \n",
       "\n",
       "               PORTE_ESCOLA  Unnamed: 8  TP_LOCALIZACAO_ESCOLA  \n",
       "0       Maior que 90 alunos         NaN                      1  \n",
       "1       Maior que 90 alunos         NaN                      1  \n",
       "2       Maior que 90 alunos         NaN                      1  \n",
       "3       Maior que 90 alunos         NaN                      1  \n",
       "4          De 1 a 30 alunos         NaN                      1  \n",
       "...                     ...         ...                    ...  \n",
       "172300  Maior que 90 alunos         NaN                      1  \n",
       "172301  Maior que 90 alunos         NaN                      1  \n",
       "172302  Maior que 90 alunos         NaN                      1  \n",
       "172303     De 1 a 30 alunos         NaN                      1  \n",
       "172304     De 1 a 30 alunos         NaN                      1  \n",
       "\n",
       "[172305 rows x 10 columns]"
      ]
     },
     "execution_count": 26,
     "metadata": {},
     "output_type": "execute_result"
    }
   ],
   "source": [
    "dados = pd.read_csv('data.csv',encoding='ISO-8859-1', sep=';', low_memory=False)\n",
    "dados\n"
   ]
  },
  {
   "cell_type": "code",
   "execution_count": 27,
   "id": "01ac9355",
   "metadata": {},
   "outputs": [
    {
     "data": {
      "text/html": [
       "<div>\n",
       "<style scoped>\n",
       "    .dataframe tbody tr th:only-of-type {\n",
       "        vertical-align: middle;\n",
       "    }\n",
       "\n",
       "    .dataframe tbody tr th {\n",
       "        vertical-align: top;\n",
       "    }\n",
       "\n",
       "    .dataframe thead th {\n",
       "        text-align: right;\n",
       "    }\n",
       "</style>\n",
       "<table border=\"1\" class=\"dataframe\">\n",
       "  <thead>\n",
       "    <tr style=\"text-align: right;\">\n",
       "      <th></th>\n",
       "      <th>NU_ANO</th>\n",
       "      <th>SG_UF_ESCOLA</th>\n",
       "      <th>NO_MUNICIPIO_ESCOLA</th>\n",
       "      <th>NO_ESCOLA_EDUCACENSO</th>\n",
       "      <th>TP_DEPENDENCIA_ADM_ESCOLA</th>\n",
       "      <th>NU_PARTICIPANTES</th>\n",
       "      <th>NU_MEDIA_TOT</th>\n",
       "      <th>PORTE_ESCOLA</th>\n",
       "      <th>Unnamed: 8</th>\n",
       "      <th>TP_LOCALIZACAO_ESCOLA</th>\n",
       "    </tr>\n",
       "  </thead>\n",
       "  <tbody>\n",
       "    <tr>\n",
       "      <th>0</th>\n",
       "      <td>2007</td>\n",
       "      <td>RO</td>\n",
       "      <td>Porto Velho</td>\n",
       "      <td>CENTRO DE ENSINO CLASSE A</td>\n",
       "      <td>4</td>\n",
       "      <td>140</td>\n",
       "      <td>69.03</td>\n",
       "      <td>Maior que 90 alunos</td>\n",
       "      <td>NaN</td>\n",
       "      <td>1</td>\n",
       "    </tr>\n",
       "    <tr>\n",
       "      <th>1</th>\n",
       "      <td>2006</td>\n",
       "      <td>RO</td>\n",
       "      <td>Porto Velho</td>\n",
       "      <td>CENTRO DE ENSINO CLASSE A</td>\n",
       "      <td>4</td>\n",
       "      <td>139</td>\n",
       "      <td>57.82</td>\n",
       "      <td>Maior que 90 alunos</td>\n",
       "      <td>NaN</td>\n",
       "      <td>1</td>\n",
       "    </tr>\n",
       "    <tr>\n",
       "      <th>2</th>\n",
       "      <td>2005</td>\n",
       "      <td>RO</td>\n",
       "      <td>Porto Velho</td>\n",
       "      <td>CENTRO DE ENSINO CLASSE A</td>\n",
       "      <td>4</td>\n",
       "      <td>145</td>\n",
       "      <td>64.83</td>\n",
       "      <td>Maior que 90 alunos</td>\n",
       "      <td>NaN</td>\n",
       "      <td>1</td>\n",
       "    </tr>\n",
       "    <tr>\n",
       "      <th>3</th>\n",
       "      <td>2008</td>\n",
       "      <td>RO</td>\n",
       "      <td>Porto Velho</td>\n",
       "      <td>CENTRO DE ENSINO CLASSE A</td>\n",
       "      <td>4</td>\n",
       "      <td>171</td>\n",
       "      <td>NaN</td>\n",
       "      <td>Maior que 90 alunos</td>\n",
       "      <td>NaN</td>\n",
       "      <td>1</td>\n",
       "    </tr>\n",
       "    <tr>\n",
       "      <th>4</th>\n",
       "      <td>2007</td>\n",
       "      <td>RO</td>\n",
       "      <td>Porto Velho</td>\n",
       "      <td>CENTRO EDUCACIONAL MOJUCA</td>\n",
       "      <td>4</td>\n",
       "      <td>12</td>\n",
       "      <td>58.84</td>\n",
       "      <td>De 1 a 30 alunos</td>\n",
       "      <td>NaN</td>\n",
       "      <td>1</td>\n",
       "    </tr>\n",
       "    <tr>\n",
       "      <th>...</th>\n",
       "      <td>...</td>\n",
       "      <td>...</td>\n",
       "      <td>...</td>\n",
       "      <td>...</td>\n",
       "      <td>...</td>\n",
       "      <td>...</td>\n",
       "      <td>...</td>\n",
       "      <td>...</td>\n",
       "      <td>...</td>\n",
       "      <td>...</td>\n",
       "    </tr>\n",
       "    <tr>\n",
       "      <th>172300</th>\n",
       "      <td>2013</td>\n",
       "      <td>DF</td>\n",
       "      <td>BrasÃ­lia</td>\n",
       "      <td>CED 310 DE SANTA MARIA</td>\n",
       "      <td>2</td>\n",
       "      <td>147</td>\n",
       "      <td>NaN</td>\n",
       "      <td>Maior que 90 alunos</td>\n",
       "      <td>NaN</td>\n",
       "      <td>1</td>\n",
       "    </tr>\n",
       "    <tr>\n",
       "      <th>172301</th>\n",
       "      <td>2014</td>\n",
       "      <td>DF</td>\n",
       "      <td>BrasÃ­lia</td>\n",
       "      <td>CED 310 DE SANTA MARIA</td>\n",
       "      <td>2</td>\n",
       "      <td>100</td>\n",
       "      <td>NaN</td>\n",
       "      <td>Maior que 90 alunos</td>\n",
       "      <td>NaN</td>\n",
       "      <td>1</td>\n",
       "    </tr>\n",
       "    <tr>\n",
       "      <th>172302</th>\n",
       "      <td>2015</td>\n",
       "      <td>DF</td>\n",
       "      <td>BrasÃ­lia</td>\n",
       "      <td>CED 310 DE SANTA MARIA</td>\n",
       "      <td>2</td>\n",
       "      <td>152</td>\n",
       "      <td>NaN</td>\n",
       "      <td>Maior que 90 alunos</td>\n",
       "      <td>NaN</td>\n",
       "      <td>1</td>\n",
       "    </tr>\n",
       "    <tr>\n",
       "      <th>172303</th>\n",
       "      <td>2014</td>\n",
       "      <td>DF</td>\n",
       "      <td>BrasÃ­lia</td>\n",
       "      <td>COL IMPACTO</td>\n",
       "      <td>4</td>\n",
       "      <td>10</td>\n",
       "      <td>NaN</td>\n",
       "      <td>De 1 a 30 alunos</td>\n",
       "      <td>NaN</td>\n",
       "      <td>1</td>\n",
       "    </tr>\n",
       "    <tr>\n",
       "      <th>172304</th>\n",
       "      <td>2015</td>\n",
       "      <td>DF</td>\n",
       "      <td>BrasÃ­lia</td>\n",
       "      <td>COL IMPACTO</td>\n",
       "      <td>4</td>\n",
       "      <td>20</td>\n",
       "      <td>NaN</td>\n",
       "      <td>De 1 a 30 alunos</td>\n",
       "      <td>NaN</td>\n",
       "      <td>1</td>\n",
       "    </tr>\n",
       "  </tbody>\n",
       "</table>\n",
       "<p>172305 rows × 10 columns</p>\n",
       "</div>"
      ],
      "text/plain": [
       "        NU_ANO SG_UF_ESCOLA NO_MUNICIPIO_ESCOLA       NO_ESCOLA_EDUCACENSO  \\\n",
       "0         2007           RO         Porto Velho  CENTRO DE ENSINO CLASSE A   \n",
       "1         2006           RO         Porto Velho  CENTRO DE ENSINO CLASSE A   \n",
       "2         2005           RO         Porto Velho  CENTRO DE ENSINO CLASSE A   \n",
       "3         2008           RO         Porto Velho  CENTRO DE ENSINO CLASSE A   \n",
       "4         2007           RO         Porto Velho  CENTRO EDUCACIONAL MOJUCA   \n",
       "...        ...          ...                 ...                        ...   \n",
       "172300    2013           DF           BrasÃ­lia     CED 310 DE SANTA MARIA   \n",
       "172301    2014           DF           BrasÃ­lia     CED 310 DE SANTA MARIA   \n",
       "172302    2015           DF           BrasÃ­lia     CED 310 DE SANTA MARIA   \n",
       "172303    2014           DF           BrasÃ­lia                COL IMPACTO   \n",
       "172304    2015           DF           BrasÃ­lia                COL IMPACTO   \n",
       "\n",
       "        TP_DEPENDENCIA_ADM_ESCOLA  NU_PARTICIPANTES  NU_MEDIA_TOT  \\\n",
       "0                               4               140         69.03   \n",
       "1                               4               139         57.82   \n",
       "2                               4               145         64.83   \n",
       "3                               4               171           NaN   \n",
       "4                               4                12         58.84   \n",
       "...                           ...               ...           ...   \n",
       "172300                          2               147           NaN   \n",
       "172301                          2               100           NaN   \n",
       "172302                          2               152           NaN   \n",
       "172303                          4                10           NaN   \n",
       "172304                          4                20           NaN   \n",
       "\n",
       "               PORTE_ESCOLA  Unnamed: 8  TP_LOCALIZACAO_ESCOLA  \n",
       "0       Maior que 90 alunos         NaN                      1  \n",
       "1       Maior que 90 alunos         NaN                      1  \n",
       "2       Maior que 90 alunos         NaN                      1  \n",
       "3       Maior que 90 alunos         NaN                      1  \n",
       "4          De 1 a 30 alunos         NaN                      1  \n",
       "...                     ...         ...                    ...  \n",
       "172300  Maior que 90 alunos         NaN                      1  \n",
       "172301  Maior que 90 alunos         NaN                      1  \n",
       "172302  Maior que 90 alunos         NaN                      1  \n",
       "172303     De 1 a 30 alunos         NaN                      1  \n",
       "172304     De 1 a 30 alunos         NaN                      1  \n",
       "\n",
       "[172305 rows x 10 columns]"
      ]
     },
     "execution_count": 27,
     "metadata": {},
     "output_type": "execute_result"
    }
   ],
   "source": [
    "data = pd.read_csv('data.csv',encoding='ISO-8859-1', sep=';', low_memory=False)\n",
    "data"
   ]
  },
  {
   "cell_type": "code",
   "execution_count": null,
   "id": "91a99b31",
   "metadata": {},
   "outputs": [],
   "source": []
  },
  {
   "cell_type": "code",
   "execution_count": 28,
   "id": "85cd8f84",
   "metadata": {
    "scrolled": true
   },
   "outputs": [
    {
     "data": {
      "text/html": [
       "<div>\n",
       "<style scoped>\n",
       "    .dataframe tbody tr th:only-of-type {\n",
       "        vertical-align: middle;\n",
       "    }\n",
       "\n",
       "    .dataframe tbody tr th {\n",
       "        vertical-align: top;\n",
       "    }\n",
       "\n",
       "    .dataframe thead th {\n",
       "        text-align: right;\n",
       "    }\n",
       "</style>\n",
       "<table border=\"1\" class=\"dataframe\">\n",
       "  <thead>\n",
       "    <tr style=\"text-align: right;\">\n",
       "      <th></th>\n",
       "      <th>NU_ANO</th>\n",
       "      <th>SG_UF_ESCOLA</th>\n",
       "      <th>NO_MUNICIPIO_ESCOLA</th>\n",
       "      <th>NO_ESCOLA_EDUCACENSO</th>\n",
       "      <th>TP_DEPENDENCIA_ADM_ESCOLA</th>\n",
       "      <th>NU_PARTICIPANTES</th>\n",
       "      <th>NU_MEDIA_TOT</th>\n",
       "      <th>PORTE_ESCOLA</th>\n",
       "      <th>Unnamed: 8</th>\n",
       "      <th>TP_LOCALIZACAO_ESCOLA</th>\n",
       "    </tr>\n",
       "  </thead>\n",
       "  <tbody>\n",
       "    <tr>\n",
       "      <th>1</th>\n",
       "      <td>2006</td>\n",
       "      <td>RO</td>\n",
       "      <td>Porto Velho</td>\n",
       "      <td>CENTRO DE ENSINO CLASSE A</td>\n",
       "      <td>4</td>\n",
       "      <td>139</td>\n",
       "      <td>57.82</td>\n",
       "      <td>Maior que 90 alunos</td>\n",
       "      <td>NaN</td>\n",
       "      <td>1</td>\n",
       "    </tr>\n",
       "    <tr>\n",
       "      <th>8</th>\n",
       "      <td>2006</td>\n",
       "      <td>RO</td>\n",
       "      <td>Porto Velho</td>\n",
       "      <td>INTERATIVO  CURSOS E COLEGIO</td>\n",
       "      <td>4</td>\n",
       "      <td>32</td>\n",
       "      <td>43.73</td>\n",
       "      <td>De 61 a 90 alunos</td>\n",
       "      <td>NaN</td>\n",
       "      <td>1</td>\n",
       "    </tr>\n",
       "    <tr>\n",
       "      <th>11</th>\n",
       "      <td>2006</td>\n",
       "      <td>RO</td>\n",
       "      <td>Porto Velho</td>\n",
       "      <td>CENTRO EDUC OBJETIVO JUNIOR</td>\n",
       "      <td>4</td>\n",
       "      <td>26</td>\n",
       "      <td>51.69</td>\n",
       "      <td>De 31 a 60 alunos</td>\n",
       "      <td>NaN</td>\n",
       "      <td>1</td>\n",
       "    </tr>\n",
       "    <tr>\n",
       "      <th>16</th>\n",
       "      <td>2006</td>\n",
       "      <td>RO</td>\n",
       "      <td>Porto Velho</td>\n",
       "      <td>COLEGIO DOM BOSCO</td>\n",
       "      <td>4</td>\n",
       "      <td>71</td>\n",
       "      <td>53.91</td>\n",
       "      <td>Maior que 90 alunos</td>\n",
       "      <td>NaN</td>\n",
       "      <td>1</td>\n",
       "    </tr>\n",
       "    <tr>\n",
       "      <th>19</th>\n",
       "      <td>2006</td>\n",
       "      <td>RO</td>\n",
       "      <td>Porto Velho</td>\n",
       "      <td>COLEGIO PITAGORAS</td>\n",
       "      <td>4</td>\n",
       "      <td>20</td>\n",
       "      <td>45.64</td>\n",
       "      <td>De 31 a 60 alunos</td>\n",
       "      <td>NaN</td>\n",
       "      <td>1</td>\n",
       "    </tr>\n",
       "    <tr>\n",
       "      <th>...</th>\n",
       "      <td>...</td>\n",
       "      <td>...</td>\n",
       "      <td>...</td>\n",
       "      <td>...</td>\n",
       "      <td>...</td>\n",
       "      <td>...</td>\n",
       "      <td>...</td>\n",
       "      <td>...</td>\n",
       "      <td>...</td>\n",
       "      <td>...</td>\n",
       "    </tr>\n",
       "    <tr>\n",
       "      <th>67586</th>\n",
       "      <td>2006</td>\n",
       "      <td>DF</td>\n",
       "      <td>BrasÃ­lia</td>\n",
       "      <td>COL MAXWELL</td>\n",
       "      <td>4</td>\n",
       "      <td>11</td>\n",
       "      <td>52.52</td>\n",
       "      <td>De 61 a 90 alunos</td>\n",
       "      <td>NaN</td>\n",
       "      <td>1</td>\n",
       "    </tr>\n",
       "    <tr>\n",
       "      <th>67590</th>\n",
       "      <td>2006</td>\n",
       "      <td>DF</td>\n",
       "      <td>BrasÃ­lia</td>\n",
       "      <td>CED LEONARDO DA VINCI</td>\n",
       "      <td>4</td>\n",
       "      <td>60</td>\n",
       "      <td>62.40</td>\n",
       "      <td>Maior que 90 alunos</td>\n",
       "      <td>NaN</td>\n",
       "      <td>1</td>\n",
       "    </tr>\n",
       "    <tr>\n",
       "      <th>67594</th>\n",
       "      <td>2006</td>\n",
       "      <td>DF</td>\n",
       "      <td>BrasÃ­lia</td>\n",
       "      <td>CEM STELLA DOS CHERUBINS GUIMARAES TROIS</td>\n",
       "      <td>2</td>\n",
       "      <td>128</td>\n",
       "      <td>42.45</td>\n",
       "      <td>Maior que 90 alunos</td>\n",
       "      <td>NaN</td>\n",
       "      <td>1</td>\n",
       "    </tr>\n",
       "    <tr>\n",
       "      <th>67598</th>\n",
       "      <td>2006</td>\n",
       "      <td>DF</td>\n",
       "      <td>BrasÃ­lia</td>\n",
       "      <td>INST DE EDUC NDA SENIOR</td>\n",
       "      <td>4</td>\n",
       "      <td>32</td>\n",
       "      <td>59.81</td>\n",
       "      <td>Maior que 90 alunos</td>\n",
       "      <td>NaN</td>\n",
       "      <td>1</td>\n",
       "    </tr>\n",
       "    <tr>\n",
       "      <th>67603</th>\n",
       "      <td>2006</td>\n",
       "      <td>DF</td>\n",
       "      <td>BrasÃ­lia</td>\n",
       "      <td>COL IDEAL</td>\n",
       "      <td>4</td>\n",
       "      <td>36</td>\n",
       "      <td>54.38</td>\n",
       "      <td>Maior que 90 alunos</td>\n",
       "      <td>NaN</td>\n",
       "      <td>1</td>\n",
       "    </tr>\n",
       "  </tbody>\n",
       "</table>\n",
       "<p>15652 rows × 10 columns</p>\n",
       "</div>"
      ],
      "text/plain": [
       "       NU_ANO SG_UF_ESCOLA NO_MUNICIPIO_ESCOLA  \\\n",
       "1        2006           RO         Porto Velho   \n",
       "8        2006           RO         Porto Velho   \n",
       "11       2006           RO         Porto Velho   \n",
       "16       2006           RO         Porto Velho   \n",
       "19       2006           RO         Porto Velho   \n",
       "...       ...          ...                 ...   \n",
       "67586    2006           DF           BrasÃ­lia   \n",
       "67590    2006           DF           BrasÃ­lia   \n",
       "67594    2006           DF           BrasÃ­lia   \n",
       "67598    2006           DF           BrasÃ­lia   \n",
       "67603    2006           DF           BrasÃ­lia   \n",
       "\n",
       "                           NO_ESCOLA_EDUCACENSO  TP_DEPENDENCIA_ADM_ESCOLA  \\\n",
       "1                     CENTRO DE ENSINO CLASSE A                          4   \n",
       "8                  INTERATIVO  CURSOS E COLEGIO                          4   \n",
       "11                  CENTRO EDUC OBJETIVO JUNIOR                          4   \n",
       "16                            COLEGIO DOM BOSCO                          4   \n",
       "19                            COLEGIO PITAGORAS                          4   \n",
       "...                                         ...                        ...   \n",
       "67586                               COL MAXWELL                          4   \n",
       "67590                     CED LEONARDO DA VINCI                          4   \n",
       "67594  CEM STELLA DOS CHERUBINS GUIMARAES TROIS                          2   \n",
       "67598                   INST DE EDUC NDA SENIOR                          4   \n",
       "67603                                 COL IDEAL                          4   \n",
       "\n",
       "       NU_PARTICIPANTES  NU_MEDIA_TOT         PORTE_ESCOLA  Unnamed: 8  \\\n",
       "1                   139         57.82  Maior que 90 alunos         NaN   \n",
       "8                    32         43.73    De 61 a 90 alunos         NaN   \n",
       "11                   26         51.69    De 31 a 60 alunos         NaN   \n",
       "16                   71         53.91  Maior que 90 alunos         NaN   \n",
       "19                   20         45.64    De 31 a 60 alunos         NaN   \n",
       "...                 ...           ...                  ...         ...   \n",
       "67586                11         52.52    De 61 a 90 alunos         NaN   \n",
       "67590                60         62.40  Maior que 90 alunos         NaN   \n",
       "67594               128         42.45  Maior que 90 alunos         NaN   \n",
       "67598                32         59.81  Maior que 90 alunos         NaN   \n",
       "67603                36         54.38  Maior que 90 alunos         NaN   \n",
       "\n",
       "       TP_LOCALIZACAO_ESCOLA  \n",
       "1                          1  \n",
       "8                          1  \n",
       "11                         1  \n",
       "16                         1  \n",
       "19                         1  \n",
       "...                      ...  \n",
       "67586                      1  \n",
       "67590                      1  \n",
       "67594                      1  \n",
       "67598                      1  \n",
       "67603                      1  \n",
       "\n",
       "[15652 rows x 10 columns]"
      ]
     },
     "execution_count": 28,
     "metadata": {},
     "output_type": "execute_result"
    }
   ],
   "source": [
    "filtra_ano = data['NU_ANO']==2006\n",
    "datacerta = data.loc[filtra_ano,:]\n",
    "datacerta"
   ]
  },
  {
   "cell_type": "code",
   "execution_count": 29,
   "id": "f1d0ada7",
   "metadata": {},
   "outputs": [
    {
     "name": "stderr",
     "output_type": "stream",
     "text": [
      "C:\\Users\\LuCoutinho\\AppData\\Local\\Temp\\ipykernel_2536\\3938727606.py:1: SettingWithCopyWarning: \n",
      "A value is trying to be set on a copy of a slice from a DataFrame.\n",
      "Try using .loc[row_indexer,col_indexer] = value instead\n",
      "\n",
      "See the caveats in the documentation: https://pandas.pydata.org/pandas-docs/stable/user_guide/indexing.html#returning-a-view-versus-a-copy\n",
      "  datacerta.loc[datacerta.TP_DEPENDENCIA_ADM_ESCOLA<4,\"TIPO\"]=\"PU\"\n"
     ]
    },
    {
     "data": {
      "text/plain": [
       "PU    12161\n",
       "PV     3491\n",
       "Name: TIPO, dtype: int64"
      ]
     },
     "execution_count": 29,
     "metadata": {},
     "output_type": "execute_result"
    }
   ],
   "source": [
    "datacerta.loc[datacerta.TP_DEPENDENCIA_ADM_ESCOLA<4,\"TIPO\"]=\"PU\"\n",
    "datacerta.loc[datacerta.TP_DEPENDENCIA_ADM_ESCOLA==4,\"TIPO\"]=\"PV\"\n",
    "datacerta.TIPO.value_counts()"
   ]
  },
  {
   "cell_type": "code",
   "execution_count": 84,
   "id": "487cb958",
   "metadata": {},
   "outputs": [
    {
     "data": {
      "text/plain": [
       "Urbana    15191\n",
       "Rural       461\n",
       "Name: LOCALIZACAO, dtype: int64"
      ]
     },
     "execution_count": 84,
     "metadata": {},
     "output_type": "execute_result"
    }
   ],
   "source": [
    "datacerta.loc[datacerta.TP_LOCALIZACAO_ESCOLA==1,\"LOCALIZACAO\"]=\"Urbana\"\n",
    "datacerta.loc[datacerta.TP_LOCALIZACAO_ESCOLA==2,\"LOCALIZACAO\"]=\"Rural\"\n",
    "datacerta.LOCALIZACAO.value_counts()"
   ]
  },
  {
   "cell_type": "markdown",
   "id": "adc2671e",
   "metadata": {},
   "source": [
    "## Target: 'TIPO'\n",
    "## Features: SG_UF_ESCOLA ,NU_PARTICIPANTES,\tNU_MEDIA_TOT\t,PORTE_ESCOLA,TP_LOCALIZACAO\n"
   ]
  },
  {
   "cell_type": "code",
   "execution_count": 85,
   "id": "a9c64ec1",
   "metadata": {
    "scrolled": true
   },
   "outputs": [
    {
     "data": {
      "text/html": [
       "<div>\n",
       "<style scoped>\n",
       "    .dataframe tbody tr th:only-of-type {\n",
       "        vertical-align: middle;\n",
       "    }\n",
       "\n",
       "    .dataframe tbody tr th {\n",
       "        vertical-align: top;\n",
       "    }\n",
       "\n",
       "    .dataframe thead th {\n",
       "        text-align: right;\n",
       "    }\n",
       "</style>\n",
       "<table border=\"1\" class=\"dataframe\">\n",
       "  <thead>\n",
       "    <tr style=\"text-align: right;\">\n",
       "      <th></th>\n",
       "      <th>NU_ANO</th>\n",
       "      <th>SG_UF_ESCOLA</th>\n",
       "      <th>NO_MUNICIPIO_ESCOLA</th>\n",
       "      <th>NO_ESCOLA_EDUCACENSO</th>\n",
       "      <th>TP_DEPENDENCIA_ADM_ESCOLA</th>\n",
       "      <th>NU_PARTICIPANTES</th>\n",
       "      <th>NU_MEDIA_TOT</th>\n",
       "      <th>PORTE_ESCOLA</th>\n",
       "      <th>Unnamed: 8</th>\n",
       "      <th>TP_LOCALIZACAO_ESCOLA</th>\n",
       "      <th>TIPO</th>\n",
       "      <th>LOCALIZACAO</th>\n",
       "    </tr>\n",
       "  </thead>\n",
       "  <tbody>\n",
       "    <tr>\n",
       "      <th>1</th>\n",
       "      <td>2006</td>\n",
       "      <td>RO</td>\n",
       "      <td>Porto Velho</td>\n",
       "      <td>CENTRO DE ENSINO CLASSE A</td>\n",
       "      <td>4</td>\n",
       "      <td>139</td>\n",
       "      <td>57.82</td>\n",
       "      <td>Maior que 90 alunos</td>\n",
       "      <td>NaN</td>\n",
       "      <td>1</td>\n",
       "      <td>PV</td>\n",
       "      <td>Urbana</td>\n",
       "    </tr>\n",
       "    <tr>\n",
       "      <th>8</th>\n",
       "      <td>2006</td>\n",
       "      <td>RO</td>\n",
       "      <td>Porto Velho</td>\n",
       "      <td>INTERATIVO  CURSOS E COLEGIO</td>\n",
       "      <td>4</td>\n",
       "      <td>32</td>\n",
       "      <td>43.73</td>\n",
       "      <td>De 61 a 90 alunos</td>\n",
       "      <td>NaN</td>\n",
       "      <td>1</td>\n",
       "      <td>PV</td>\n",
       "      <td>Urbana</td>\n",
       "    </tr>\n",
       "    <tr>\n",
       "      <th>11</th>\n",
       "      <td>2006</td>\n",
       "      <td>RO</td>\n",
       "      <td>Porto Velho</td>\n",
       "      <td>CENTRO EDUC OBJETIVO JUNIOR</td>\n",
       "      <td>4</td>\n",
       "      <td>26</td>\n",
       "      <td>51.69</td>\n",
       "      <td>De 31 a 60 alunos</td>\n",
       "      <td>NaN</td>\n",
       "      <td>1</td>\n",
       "      <td>PV</td>\n",
       "      <td>Urbana</td>\n",
       "    </tr>\n",
       "    <tr>\n",
       "      <th>16</th>\n",
       "      <td>2006</td>\n",
       "      <td>RO</td>\n",
       "      <td>Porto Velho</td>\n",
       "      <td>COLEGIO DOM BOSCO</td>\n",
       "      <td>4</td>\n",
       "      <td>71</td>\n",
       "      <td>53.91</td>\n",
       "      <td>Maior que 90 alunos</td>\n",
       "      <td>NaN</td>\n",
       "      <td>1</td>\n",
       "      <td>PV</td>\n",
       "      <td>Urbana</td>\n",
       "    </tr>\n",
       "    <tr>\n",
       "      <th>19</th>\n",
       "      <td>2006</td>\n",
       "      <td>RO</td>\n",
       "      <td>Porto Velho</td>\n",
       "      <td>COLEGIO PITAGORAS</td>\n",
       "      <td>4</td>\n",
       "      <td>20</td>\n",
       "      <td>45.64</td>\n",
       "      <td>De 31 a 60 alunos</td>\n",
       "      <td>NaN</td>\n",
       "      <td>1</td>\n",
       "      <td>PV</td>\n",
       "      <td>Urbana</td>\n",
       "    </tr>\n",
       "    <tr>\n",
       "      <th>...</th>\n",
       "      <td>...</td>\n",
       "      <td>...</td>\n",
       "      <td>...</td>\n",
       "      <td>...</td>\n",
       "      <td>...</td>\n",
       "      <td>...</td>\n",
       "      <td>...</td>\n",
       "      <td>...</td>\n",
       "      <td>...</td>\n",
       "      <td>...</td>\n",
       "      <td>...</td>\n",
       "      <td>...</td>\n",
       "    </tr>\n",
       "    <tr>\n",
       "      <th>67586</th>\n",
       "      <td>2006</td>\n",
       "      <td>DF</td>\n",
       "      <td>BrasÃ­lia</td>\n",
       "      <td>COL MAXWELL</td>\n",
       "      <td>4</td>\n",
       "      <td>11</td>\n",
       "      <td>52.52</td>\n",
       "      <td>De 61 a 90 alunos</td>\n",
       "      <td>NaN</td>\n",
       "      <td>1</td>\n",
       "      <td>PV</td>\n",
       "      <td>Urbana</td>\n",
       "    </tr>\n",
       "    <tr>\n",
       "      <th>67590</th>\n",
       "      <td>2006</td>\n",
       "      <td>DF</td>\n",
       "      <td>BrasÃ­lia</td>\n",
       "      <td>CED LEONARDO DA VINCI</td>\n",
       "      <td>4</td>\n",
       "      <td>60</td>\n",
       "      <td>62.40</td>\n",
       "      <td>Maior que 90 alunos</td>\n",
       "      <td>NaN</td>\n",
       "      <td>1</td>\n",
       "      <td>PV</td>\n",
       "      <td>Urbana</td>\n",
       "    </tr>\n",
       "    <tr>\n",
       "      <th>67594</th>\n",
       "      <td>2006</td>\n",
       "      <td>DF</td>\n",
       "      <td>BrasÃ­lia</td>\n",
       "      <td>CEM STELLA DOS CHERUBINS GUIMARAES TROIS</td>\n",
       "      <td>2</td>\n",
       "      <td>128</td>\n",
       "      <td>42.45</td>\n",
       "      <td>Maior que 90 alunos</td>\n",
       "      <td>NaN</td>\n",
       "      <td>1</td>\n",
       "      <td>PU</td>\n",
       "      <td>Urbana</td>\n",
       "    </tr>\n",
       "    <tr>\n",
       "      <th>67598</th>\n",
       "      <td>2006</td>\n",
       "      <td>DF</td>\n",
       "      <td>BrasÃ­lia</td>\n",
       "      <td>INST DE EDUC NDA SENIOR</td>\n",
       "      <td>4</td>\n",
       "      <td>32</td>\n",
       "      <td>59.81</td>\n",
       "      <td>Maior que 90 alunos</td>\n",
       "      <td>NaN</td>\n",
       "      <td>1</td>\n",
       "      <td>PV</td>\n",
       "      <td>Urbana</td>\n",
       "    </tr>\n",
       "    <tr>\n",
       "      <th>67603</th>\n",
       "      <td>2006</td>\n",
       "      <td>DF</td>\n",
       "      <td>BrasÃ­lia</td>\n",
       "      <td>COL IDEAL</td>\n",
       "      <td>4</td>\n",
       "      <td>36</td>\n",
       "      <td>54.38</td>\n",
       "      <td>Maior que 90 alunos</td>\n",
       "      <td>NaN</td>\n",
       "      <td>1</td>\n",
       "      <td>PV</td>\n",
       "      <td>Urbana</td>\n",
       "    </tr>\n",
       "  </tbody>\n",
       "</table>\n",
       "<p>15652 rows × 12 columns</p>\n",
       "</div>"
      ],
      "text/plain": [
       "       NU_ANO SG_UF_ESCOLA NO_MUNICIPIO_ESCOLA  \\\n",
       "1        2006           RO         Porto Velho   \n",
       "8        2006           RO         Porto Velho   \n",
       "11       2006           RO         Porto Velho   \n",
       "16       2006           RO         Porto Velho   \n",
       "19       2006           RO         Porto Velho   \n",
       "...       ...          ...                 ...   \n",
       "67586    2006           DF           BrasÃ­lia   \n",
       "67590    2006           DF           BrasÃ­lia   \n",
       "67594    2006           DF           BrasÃ­lia   \n",
       "67598    2006           DF           BrasÃ­lia   \n",
       "67603    2006           DF           BrasÃ­lia   \n",
       "\n",
       "                           NO_ESCOLA_EDUCACENSO  TP_DEPENDENCIA_ADM_ESCOLA  \\\n",
       "1                     CENTRO DE ENSINO CLASSE A                          4   \n",
       "8                  INTERATIVO  CURSOS E COLEGIO                          4   \n",
       "11                  CENTRO EDUC OBJETIVO JUNIOR                          4   \n",
       "16                            COLEGIO DOM BOSCO                          4   \n",
       "19                            COLEGIO PITAGORAS                          4   \n",
       "...                                         ...                        ...   \n",
       "67586                               COL MAXWELL                          4   \n",
       "67590                     CED LEONARDO DA VINCI                          4   \n",
       "67594  CEM STELLA DOS CHERUBINS GUIMARAES TROIS                          2   \n",
       "67598                   INST DE EDUC NDA SENIOR                          4   \n",
       "67603                                 COL IDEAL                          4   \n",
       "\n",
       "       NU_PARTICIPANTES  NU_MEDIA_TOT         PORTE_ESCOLA  Unnamed: 8  \\\n",
       "1                   139         57.82  Maior que 90 alunos         NaN   \n",
       "8                    32         43.73    De 61 a 90 alunos         NaN   \n",
       "11                   26         51.69    De 31 a 60 alunos         NaN   \n",
       "16                   71         53.91  Maior que 90 alunos         NaN   \n",
       "19                   20         45.64    De 31 a 60 alunos         NaN   \n",
       "...                 ...           ...                  ...         ...   \n",
       "67586                11         52.52    De 61 a 90 alunos         NaN   \n",
       "67590                60         62.40  Maior que 90 alunos         NaN   \n",
       "67594               128         42.45  Maior que 90 alunos         NaN   \n",
       "67598                32         59.81  Maior que 90 alunos         NaN   \n",
       "67603                36         54.38  Maior que 90 alunos         NaN   \n",
       "\n",
       "       TP_LOCALIZACAO_ESCOLA TIPO LOCALIZACAO  \n",
       "1                          1   PV      Urbana  \n",
       "8                          1   PV      Urbana  \n",
       "11                         1   PV      Urbana  \n",
       "16                         1   PV      Urbana  \n",
       "19                         1   PV      Urbana  \n",
       "...                      ...  ...         ...  \n",
       "67586                      1   PV      Urbana  \n",
       "67590                      1   PV      Urbana  \n",
       "67594                      1   PU      Urbana  \n",
       "67598                      1   PV      Urbana  \n",
       "67603                      1   PV      Urbana  \n",
       "\n",
       "[15652 rows x 12 columns]"
      ]
     },
     "execution_count": 85,
     "metadata": {},
     "output_type": "execute_result"
    }
   ],
   "source": [
    "datacerta"
   ]
  },
  {
   "cell_type": "code",
   "execution_count": 62,
   "id": "a7c90fed",
   "metadata": {},
   "outputs": [
    {
     "data": {
      "text/plain": [
       "NU_ANO                         int64\n",
       "SG_UF_ESCOLA                  object\n",
       "NO_MUNICIPIO_ESCOLA           object\n",
       "NO_ESCOLA_EDUCACENSO          object\n",
       "TP_DEPENDENCIA_ADM_ESCOLA      int64\n",
       "NU_PARTICIPANTES               int64\n",
       "NU_MEDIA_TOT                 float64\n",
       "PORTE_ESCOLA                  object\n",
       "Unnamed: 8                   float64\n",
       "TP_LOCALIZACAO_ESCOLA          int64\n",
       "TIPO                          object\n",
       "dtype: object"
      ]
     },
     "execution_count": 62,
     "metadata": {},
     "output_type": "execute_result"
    }
   ],
   "source": [
    "datacerta.dtypes"
   ]
  },
  {
   "cell_type": "markdown",
   "id": "012c322b",
   "metadata": {},
   "source": [
    "# Análise exploratória - Quantitativas"
   ]
  },
  {
   "cell_type": "markdown",
   "id": "b51af016",
   "metadata": {},
   "source": [
    "# Número de participantes x Média das notas no ENEM\n"
   ]
  },
  {
   "cell_type": "code",
   "execution_count": 120,
   "id": "c86f851f",
   "metadata": {},
   "outputs": [
    {
     "data": {
      "image/png": "[encoded data removed]",
      "text/plain": [
       "<Figure size 432x288 with 1 Axes>"
      ]
     },
     "metadata": {
      "needs_background": "light"
     },
     "output_type": "display_data"
    }
   ],
   "source": [
    "#media com numero de participantes \n",
    "plt.scatter(datacerta.NU_MEDIA_TOT,datacerta.NU_PARTICIPANTES)\n",
    "plt.title(\"Participantes p/ escola x Médias\")\n",
    "plt.xlabel(\"média das notas no ENEM\")\n",
    "plt.ylabel(\"número de participantes de cada escola\")\n",
    "plt.show()"
   ]
  },
  {
   "cell_type": "markdown",
   "id": "3c671e04",
   "metadata": {},
   "source": [
    "Começamos nossa análise exploratoria com o único gráfico com ambas as variáveis quantitativas. O gráfico consegue nos informar a média da nota do ENEM das escolas com base no número de alunos que participaram de cada escola.Fica claro analisando que a maioria das escolas com número de participantes menor que 600 tem médias semelhantes (entre 60 e 30).\n"
   ]
  },
  {
   "cell_type": "markdown",
   "id": "6e84f076",
   "metadata": {},
   "source": [
    "#  Análise exploratória - Quantitativas e Qualitativas"
   ]
  },
  {
   "cell_type": "markdown",
   "id": "68b38da6",
   "metadata": {},
   "source": [
    "Para a etapa da análise exploratória utilizamos a variável TARGET e as FEATURES para "
   ]
  },
  {
   "cell_type": "markdown",
   "id": "e5a40af1",
   "metadata": {},
   "source": [
    "# Média de notas no ENEM em escolas públicas e privadas"
   ]
  },
  {
   "cell_type": "code",
   "execution_count": 119,
   "id": "3b07c687",
   "metadata": {},
   "outputs": [
    {
     "data": {
      "image/png": "[encoded data removed]",
      "text/plain": [
       "<Figure size 936x288 with 2 Axes>"
      ]
     },
     "metadata": {
      "needs_background": "light"
     },
     "output_type": "display_data"
    }
   ],
   "source": [
    "#média em escola publica ou privada\n",
    "faixa=arange(0,100,5)\n",
    "plt.figure(figsize=(13,4))\n",
    "plt.subplot(121)\n",
    "plt.hist(datacerta.NU_MEDIA_TOT[datacerta.TIPO==\"PV\"],bins=faixa,edgecolor=\"white\",density=True,color=\"red\")\n",
    "plt.title('Médias em escolas privadas')\n",
    "plt.ylabel('densidade')\n",
    "plt.xlabel('\"Média de notas no ENEM\"')\n",
    "\n",
    "\n",
    "\n",
    "plt.subplot(122)\n",
    "plt.hist(datacerta.NU_MEDIA_TOT[datacerta.TIPO==\"PU\"],bins=faixa,edgecolor=\"white\",density=True,color=\"blue\")\n",
    "plt.title('Médias em escolas públicas')\n",
    "plt.ylabel('densidade')\n",
    "plt.xlabel('\"Média de notas no ENEM\"')\n",
    "plt.tight_layout()\n",
    "plt.show()"
   ]
  },
  {
   "cell_type": "markdown",
   "id": "65a613d4",
   "metadata": {},
   "source": [
    "Para realizar os gráficos a cima, relacionando as variáveis de média de notas no ENEM nos diferentes tipos de escolas (públicas e privadas),utilizamos histogramas. A partir da análise visual, fica claro que nas escolas privadas as médias das notas no ENEM são maiores que as médias de notas nas escolas privadas. "
   ]
  },
  {
   "cell_type": "markdown",
   "id": "09f11d9d",
   "metadata": {},
   "source": [
    "# Média de notas no ENEM x Porte da escola "
   ]
  },
  {
   "cell_type": "code",
   "execution_count": 122,
   "id": "afed792b",
   "metadata": {},
   "outputs": [
    {
     "data": {
      "image/png": "[encoded data removed]",
      "text/plain": [
       "<Figure size 1080x360 with 1 Axes>"
      ]
     },
     "metadata": {
      "needs_background": "light"
     },
     "output_type": "display_data"
    }
   ],
   "source": [
    "#médias e porte escolas\n",
    "plt.figure(figsize=(15,5))\n",
    "sns.boxplot(data=datacerta, x=\"PORTE_ESCOLA\", y=\"NU_MEDIA_TOT\")\n",
    "plt.title(\"Médias no ENEM x Porte das escolas\")\n",
    "plt.xlabel(\"Divisão de porte das escolas\")\n",
    "plt.ylabel(\"Média de notas no ENEM\")\n",
    "plt.show()"
   ]
  },
  {
   "cell_type": "markdown",
   "id": "dfa24933",
   "metadata": {},
   "source": [
    "Já para a análise das variáveis médias de notas no ENEM e porte das escolas utilizamos o formato de gráfico chamado de boxplot.Com esse resultado vimos que as escolas que possuem menos alunos tem uma mediana, da média de notas no ENEM, maior do que as escolas com porte maior. Os outros 3 tipos de porte possuem uma mediana próxima."
   ]
  },
  {
   "cell_type": "markdown",
   "id": "48e7e8af",
   "metadata": {},
   "source": [
    "# Média de notas no ENEM x Estado do Brasil"
   ]
  },
  {
   "cell_type": "code",
   "execution_count": 123,
   "id": "f9fd2211",
   "metadata": {},
   "outputs": [
    {
     "data": {
      "image/png": "[encoded data removed]",
      "text/plain": [
       "<Figure size 1080x360 with 1 Axes>"
      ]
     },
     "metadata": {
      "needs_background": "light"
     },
     "output_type": "display_data"
    }
   ],
   "source": [
    "#media nos estados\n",
    "plt.figure(figsize=(15,5))\n",
    "sns.boxplot(data=datacerta, x=\"SG_UF_ESCOLA\", y=\"NU_MEDIA_TOT\")\n",
    "plt.title(\"Média das notas no ENEM em cada estado do BR\")\n",
    "plt.xlabel(\"Estados do Brasil\")\n",
    "plt.ylabel(\"Média de notas no ENEM\")\n",
    "plt.show()"
   ]
  },
  {
   "cell_type": "markdown",
   "id": "3e29ba5b",
   "metadata": {},
   "source": [
    "Analisando as variáveis: estados e média de notas no ENEM por meio de um boxplot, vimos que os estados da região Sudeste do Brasil tem medianas( da média de notas) maior do que os estados de outras regiões.Além disso, fica nítido que o RS tem a mediana maior e que o RJ tem a maior nota. Com esse gráfico conseguimos visualizar o desempenho das escolas de cada estado no ENEM."
   ]
  },
  {
   "cell_type": "markdown",
   "id": "6f4b4def",
   "metadata": {},
   "source": [
    "# Número de participantes no ENEM x Localização da escola ( Rural / Urbana)"
   ]
  },
  {
   "cell_type": "code",
   "execution_count": 157,
   "id": "16ee4537",
   "metadata": {},
   "outputs": [
    {
     "data": {
      "image/png": "[encoded data removed]",
      "text/plain": [
       "<Figure size 936x288 with 2 Axes>"
      ]
     },
     "metadata": {
      "needs_background": "light"
     },
     "output_type": "display_data"
    }
   ],
   "source": [
    "#participantes nas diferentes zonas\n",
    "faixa=arange(0,100,5)\n",
    "plt.figure(figsize=(13,4))\n",
    "plt.subplot(121)\n",
    "plt.hist(datacerta.NU_PARTICIPANTES[datacerta.LOCALIZACAO==\"Urbana\"],bins=faixa,edgecolor=\"white\",density=True,color=\"grey\")\n",
    "plt.title('Número de participantes em escolas de Zona Urbana')\n",
    "plt.ylabel('densidade')\n",
    "plt.xlabel('número de participantes')\n",
    "\n",
    "\n",
    "\n",
    "plt.subplot(122)\n",
    "plt.hist(datacerta.NU_PARTICIPANTES[datacerta.LOCALIZACAO==\"Rural\"],bins=faixa,edgecolor=\"white\",density=True,color=\"green\")\n",
    "plt.title('Número de participantes em escolas de Zona Rural')\n",
    "plt.ylabel('densidade')\n",
    "plt.xlabel('número de participantes')\n",
    "plt.tight_layout()\n",
    "plt.show()\n",
    "\n",
    "\n",
    "\n"
   ]
  },
  {
   "cell_type": "markdown",
   "id": "ebe43a08",
   "metadata": {},
   "source": [
    "Para analisar a relação entre o número de participantes com escolas de Zona ubarna e Zona rural , realizamos um histograma de cada zona com o número de participantes para entender seu comportamento e como o número de participantes pode ser afetado função de cada zona. Pelo comportamento dos histogramas foi possível perceber que as escolas de zona urbana possuem mais participantes em comparação com a zona rural."
   ]
  },
  {
   "cell_type": "markdown",
   "id": "ebb9b7a5",
   "metadata": {},
   "source": [
    "# Médias de notas no ENEM x Localização da escola (Rural / Urbana)"
   ]
  },
  {
   "cell_type": "code",
   "execution_count": 158,
   "id": "ecc95e0e",
   "metadata": {},
   "outputs": [
    {
     "data": {
      "image/png": "[encoded data removed]",
      "text/plain": [
       "<Figure size 936x288 with 2 Axes>"
      ]
     },
     "metadata": {
      "needs_background": "light"
     },
     "output_type": "display_data"
    }
   ],
   "source": [
    "#Média de notas no ENEM nas diferentes zonas\n",
    "faixa=arange(0,100,5)\n",
    "plt.figure(figsize=(13,4))\n",
    "plt.subplot(121)\n",
    "plt.hist(datacerta.NU_MEDIA_TOT[datacerta.LOCALIZACAO==\"Urbana\"],bins=faixa,edgecolor=\"white\",density=True,color=\"grey\")\n",
    "plt.title('Médias de nota no ENEM em escolas em Zona urbana')\n",
    "plt.ylabel('densidade')\n",
    "plt.xlabel(\"Média de notas no ENEM\")\n",
    "\n",
    "\n",
    "\n",
    "plt.subplot(122)\n",
    "plt.hist(datacerta.NU_MEDIA_TOT[datacerta.LOCALIZACAO==\"Rural\"],bins=faixa,edgecolor=\"white\",density=True,color=\"green\")\n",
    "plt.title('Médias de nota no ENEM em escolas em Zona Rural')\n",
    "plt.ylabel('densidade')\n",
    "plt.xlabel(\"Média de notas no ENEM\")\n",
    "plt.tight_layout()\n",
    "plt.show()\n",
    "\n"
   ]
  },
  {
   "cell_type": "markdown",
   "id": "0303139d",
   "metadata": {},
   "source": [
    "Para analisar a relação entre o número de participantes em escolas de Zona ubarna e Zona rural com a média de notas, realizamos um histograma de cada zona com a média para entender seu comportamento e como a média pode ser afetada em função de cada zona. Pelo comportamento dos histogramas foi possível perceber que ambas as regiões tem média parecida por volta de 40, porém depois a densidade na zona urbana é maior."
   ]
  },
  {
   "cell_type": "markdown",
   "id": "7e1912e8",
   "metadata": {},
   "source": [
    "# Número de participantes x Tipo de escola (Privada / Pública)"
   ]
  },
  {
   "cell_type": "code",
   "execution_count": 159,
   "id": "16ec93bb",
   "metadata": {
    "scrolled": true
   },
   "outputs": [
    {
     "data": {
      "image/png": "[encoded data removed]",
      "text/plain": [
       "<Figure size 1080x360 with 2 Axes>"
      ]
     },
     "metadata": {
      "needs_background": "light"
     },
     "output_type": "display_data"
    }
   ],
   "source": [
    "faixa=arange(0,300,10)\n",
    "plt.figure(figsize=(15,5))\n",
    "plt.subplot(121)\n",
    "plt.hist(datacerta.NU_PARTICIPANTES[datacerta.TIPO==\"PV\"],bins=faixa,edgecolor=\"white\",density=True,color=\"red\")\n",
    "plt.title('Participantes em escolas privadas')\n",
    "plt.ylabel('densidade')\n",
    "plt.xlabel('Número de participantes no Enem')\n",
    "\n",
    "\n",
    "\n",
    "plt.subplot(122)\n",
    "plt.hist(datacerta.NU_PARTICIPANTES[datacerta.TIPO==\"PU\"],bins=faixa,edgecolor=\"white\",density=True,color=\"blue\")\n",
    "plt.title('Participantes em escolas públicas')\n",
    "plt.ylabel('densidade')\n",
    "plt.xlabel('Número de participantes no Enem')\n",
    "plt.tight_layout()\n",
    "plt.show()"
   ]
  },
  {
   "cell_type": "markdown",
   "id": "67a83d45",
   "metadata": {},
   "source": [
    "Para fazer a relação entre número de participantes do Enem de escolas privadas e escolas públicas, amabas variáveis qualitativas, fizemos um histograma de cada. Comparando os dois é percebe-se que existem mais participantes em escola pública do que privada, sendo uma informção relevante para a construção do nosso modelo."
   ]
  },
  {
   "cell_type": "markdown",
   "id": "f7691578",
   "metadata": {},
   "source": [
    "# Análise Exploratória - Qualitativas"
   ]
  },
  {
   "cell_type": "markdown",
   "id": "ba53268a",
   "metadata": {},
   "source": [
    "# Porte das escolas x Tipo (Pública / Privada)"
   ]
  },
  {
   "cell_type": "code",
   "execution_count": 160,
   "id": "edcd3b50",
   "metadata": {
    "scrolled": true
   },
   "outputs": [
    {
     "data": {
      "text/plain": [
       "<Figure size 936x504 with 0 Axes>"
      ]
     },
     "metadata": {},
     "output_type": "display_data"
    },
    {
     "data": {
      "image/png": "[encoded data removed]",
      "text/plain": [
       "<Figure size 432x288 with 1 Axes>"
      ]
     },
     "metadata": {
      "needs_background": "light"
     },
     "output_type": "display_data"
    }
   ],
   "source": [
    "#tipo nos tamanhos\n",
    "juncao_colunas=pd.crosstab(datacerta['PORTE_ESCOLA'],datacerta.TIPO)\n",
    "plt.figure(figsize=(13, 7))\n",
    "cores=['blue','red']\n",
    "juncao_colunas.plot.bar(color=cores,stacked=True)\n",
    "plt.ylabel('freq relativa (%)')\n",
    "plt.legend(loc='center')\n",
    "plt.legend(bbox_to_anchor=(1.05,0.95));\n",
    "plt.xlabel(\"porte escolas\")\n",
    "plt.show()"
   ]
  },
  {
   "cell_type": "markdown",
   "id": "8288a833",
   "metadata": {},
   "source": [
    "Para a poder comparar a quantidade dos diferentes tamanhos das escolas públicas e privadas, plotamos esse gráfico que nos permite perceber que existem mais escolas públicas em todos os tamanhos das escolas."
   ]
  },
  {
   "cell_type": "markdown",
   "id": "4f50086a",
   "metadata": {},
   "source": [
    "# Porte das escolas x Localização (Rural / Urbana)"
   ]
  },
  {
   "cell_type": "code",
   "execution_count": 161,
   "id": "4bd3af35",
   "metadata": {},
   "outputs": [
    {
     "data": {
      "text/plain": [
       "<Figure size 1080x360 with 0 Axes>"
      ]
     },
     "metadata": {},
     "output_type": "display_data"
    },
    {
     "data": {
      "image/png": "[encoded data removed]",
      "text/plain": [
       "<Figure size 432x288 with 1 Axes>"
      ]
     },
     "metadata": {
      "needs_background": "light"
     },
     "output_type": "display_data"
    }
   ],
   "source": [
    "plt.figure(figsize=(15,5))\n",
    "juncao_colunas=pd.crosstab(datacerta['PORTE_ESCOLA'],datacerta['LOCALIZACAO'])\n",
    "\n",
    "\n",
    "cores=['green','grey']\n",
    "juncao_colunas.plot.bar(color=cores,stacked=True)\n",
    "plt.ylabel('frequencia relativa')\n",
    "plt.legend(loc='center')\n",
    "plt.legend(bbox_to_anchor=(1.05,0.95));\n",
    "plt.xlabel(\"porte das escolas\")\n",
    "plt.show()"
   ]
  },
  {
   "cell_type": "markdown",
   "id": "0333b787",
   "metadata": {},
   "source": [
    "Para a poder comparar a quantidade dos diferentes tamanhos das escolas de zona urbana e rural, plotamos esse gráfico que nos permite perceber que existem mais escolas urbanas em todos os tamanhos das escolas."
   ]
  },
  {
   "cell_type": "markdown",
   "id": "a8e0c899",
   "metadata": {},
   "source": [
    "# Modelos de predição"
   ]
  },
  {
   "cell_type": "markdown",
   "id": "9be75eef",
   "metadata": {},
   "source": [
    "# Modelo por árvore "
   ]
  },
  {
   "cell_type": "code",
   "execution_count": 91,
   "id": "3994ee3a",
   "metadata": {},
   "outputs": [],
   "source": [
    "dados_limpos = datacerta.loc[:,['SG_UF_ESCOLA', 'NU_PARTICIPANTES', 'NU_MEDIA_TOT', 'PORTE_ESCOLA', 'TIPO','LOCALIZACAO']]\n",
    "\n",
    "dados_dummy = pd.get_dummies(dados_limpos, drop_first=True)\n",
    "X = dados_dummy.drop(\"TIPO_PV\", axis = 1)\n",
    "y = dados_dummy[\"TIPO_PV\"]\n",
    "\n",
    "X_train, X_test, y_train, y_test = train_test_split(\n",
    "    X, y, test_size=0.33, random_state=42)\n",
    "\n",
    "\n"
   ]
  },
  {
   "cell_type": "markdown",
   "id": "f0937e87",
   "metadata": {},
   "source": [
    "# Validação - modelo árvore"
   ]
  },
  {
   "cell_type": "code",
   "execution_count": 92,
   "id": "df097e82",
   "metadata": {},
   "outputs": [
    {
     "data": {
      "text/plain": [
       "0.945993031358885"
      ]
     },
     "execution_count": 92,
     "metadata": {},
     "output_type": "execute_result"
    }
   ],
   "source": [
    "clf = tree.DecisionTreeClassifier()\n",
    "clf = clf.fit(X_train, y_train)\n",
    "clf.score(X_test, y_test)"
   ]
  },
  {
   "cell_type": "code",
   "execution_count": 93,
   "id": "184a270d",
   "metadata": {},
   "outputs": [],
   "source": [
    "predito = clf.predict(X_test)"
   ]
  },
  {
   "cell_type": "code",
   "execution_count": 94,
   "id": "f7dcbfe4",
   "metadata": {},
   "outputs": [
    {
     "data": {
      "text/html": [
       "<div>\n",
       "<style scoped>\n",
       "    .dataframe tbody tr th:only-of-type {\n",
       "        vertical-align: middle;\n",
       "    }\n",
       "\n",
       "    .dataframe tbody tr th {\n",
       "        vertical-align: top;\n",
       "    }\n",
       "\n",
       "    .dataframe thead th {\n",
       "        text-align: right;\n",
       "    }\n",
       "</style>\n",
       "<table border=\"1\" class=\"dataframe\">\n",
       "  <thead>\n",
       "    <tr style=\"text-align: right;\">\n",
       "      <th>TIPO_PV</th>\n",
       "      <th>0</th>\n",
       "      <th>1</th>\n",
       "    </tr>\n",
       "    <tr>\n",
       "      <th>row_0</th>\n",
       "      <th></th>\n",
       "      <th></th>\n",
       "    </tr>\n",
       "  </thead>\n",
       "  <tbody>\n",
       "    <tr>\n",
       "      <th>0</th>\n",
       "      <td>3873</td>\n",
       "      <td>141</td>\n",
       "    </tr>\n",
       "    <tr>\n",
       "      <th>1</th>\n",
       "      <td>138</td>\n",
       "      <td>1014</td>\n",
       "    </tr>\n",
       "  </tbody>\n",
       "</table>\n",
       "</div>"
      ],
      "text/plain": [
       "TIPO_PV     0     1\n",
       "row_0              \n",
       "0        3873   141\n",
       "1         138  1014"
      ]
     },
     "execution_count": 94,
     "metadata": {},
     "output_type": "execute_result"
    }
   ],
   "source": [
    "pd.crosstab(predito, y_test)"
   ]
  },
  {
   "cell_type": "markdown",
   "id": "0c2b25e1",
   "metadata": {},
   "source": [
    "# Modelo por Naive Bayes"
   ]
  },
  {
   "cell_type": "code",
   "execution_count": 95,
   "id": "0e5d5ccb",
   "metadata": {},
   "outputs": [],
   "source": [
    "dados_limpos = datacerta.loc[:,['SG_UF_ESCOLA', 'NU_PARTICIPANTES', 'NU_MEDIA_TOT', 'PORTE_ESCOLA', 'TIPO','LOCALIZACAO']]\n",
    "\n",
    "dados_dummy = pd.get_dummies(dados_limpos, drop_first=True)\n",
    "X = dados_dummy.drop(\"TIPO_PV\", axis = 1)\n",
    "y = dados_dummy[\"TIPO_PV\"]\n",
    "\n",
    "X_train, X_test, y_train, y_test = train_test_split(\n",
    "    X, y, test_size=0.33, random_state=42)\n"
   ]
  },
  {
   "cell_type": "code",
   "execution_count": 155,
   "id": "4cf9af68",
   "metadata": {},
   "outputs": [
    {
     "data": {
      "text/html": [
       "<div>\n",
       "<style scoped>\n",
       "    .dataframe tbody tr th:only-of-type {\n",
       "        vertical-align: middle;\n",
       "    }\n",
       "\n",
       "    .dataframe tbody tr th {\n",
       "        vertical-align: top;\n",
       "    }\n",
       "\n",
       "    .dataframe thead th {\n",
       "        text-align: right;\n",
       "    }\n",
       "</style>\n",
       "<table border=\"1\" class=\"dataframe\">\n",
       "  <thead>\n",
       "    <tr style=\"text-align: right;\">\n",
       "      <th></th>\n",
       "      <th>NU_PARTICIPANTES</th>\n",
       "      <th>NU_MEDIA_TOT</th>\n",
       "      <th>SG_UF_ESCOLA_AL</th>\n",
       "      <th>SG_UF_ESCOLA_AM</th>\n",
       "      <th>SG_UF_ESCOLA_AP</th>\n",
       "      <th>SG_UF_ESCOLA_BA</th>\n",
       "      <th>SG_UF_ESCOLA_CE</th>\n",
       "      <th>SG_UF_ESCOLA_DF</th>\n",
       "      <th>SG_UF_ESCOLA_ES</th>\n",
       "      <th>SG_UF_ESCOLA_GO</th>\n",
       "      <th>...</th>\n",
       "      <th>SG_UF_ESCOLA_RS</th>\n",
       "      <th>SG_UF_ESCOLA_SC</th>\n",
       "      <th>SG_UF_ESCOLA_SE</th>\n",
       "      <th>SG_UF_ESCOLA_SP</th>\n",
       "      <th>SG_UF_ESCOLA_TO</th>\n",
       "      <th>PORTE_ESCOLA_De 31 a 60 alunos</th>\n",
       "      <th>PORTE_ESCOLA_De 61 a 90 alunos</th>\n",
       "      <th>PORTE_ESCOLA_Maior que 90 alunos</th>\n",
       "      <th>TIPO_PV</th>\n",
       "      <th>LOCALIZACAO_Urbana</th>\n",
       "    </tr>\n",
       "  </thead>\n",
       "  <tbody>\n",
       "    <tr>\n",
       "      <th>1</th>\n",
       "      <td>139</td>\n",
       "      <td>57.82</td>\n",
       "      <td>0</td>\n",
       "      <td>0</td>\n",
       "      <td>0</td>\n",
       "      <td>0</td>\n",
       "      <td>0</td>\n",
       "      <td>0</td>\n",
       "      <td>0</td>\n",
       "      <td>0</td>\n",
       "      <td>...</td>\n",
       "      <td>0</td>\n",
       "      <td>0</td>\n",
       "      <td>0</td>\n",
       "      <td>0</td>\n",
       "      <td>0</td>\n",
       "      <td>0</td>\n",
       "      <td>0</td>\n",
       "      <td>1</td>\n",
       "      <td>1</td>\n",
       "      <td>1</td>\n",
       "    </tr>\n",
       "    <tr>\n",
       "      <th>8</th>\n",
       "      <td>32</td>\n",
       "      <td>43.73</td>\n",
       "      <td>0</td>\n",
       "      <td>0</td>\n",
       "      <td>0</td>\n",
       "      <td>0</td>\n",
       "      <td>0</td>\n",
       "      <td>0</td>\n",
       "      <td>0</td>\n",
       "      <td>0</td>\n",
       "      <td>...</td>\n",
       "      <td>0</td>\n",
       "      <td>0</td>\n",
       "      <td>0</td>\n",
       "      <td>0</td>\n",
       "      <td>0</td>\n",
       "      <td>0</td>\n",
       "      <td>1</td>\n",
       "      <td>0</td>\n",
       "      <td>1</td>\n",
       "      <td>1</td>\n",
       "    </tr>\n",
       "    <tr>\n",
       "      <th>11</th>\n",
       "      <td>26</td>\n",
       "      <td>51.69</td>\n",
       "      <td>0</td>\n",
       "      <td>0</td>\n",
       "      <td>0</td>\n",
       "      <td>0</td>\n",
       "      <td>0</td>\n",
       "      <td>0</td>\n",
       "      <td>0</td>\n",
       "      <td>0</td>\n",
       "      <td>...</td>\n",
       "      <td>0</td>\n",
       "      <td>0</td>\n",
       "      <td>0</td>\n",
       "      <td>0</td>\n",
       "      <td>0</td>\n",
       "      <td>1</td>\n",
       "      <td>0</td>\n",
       "      <td>0</td>\n",
       "      <td>1</td>\n",
       "      <td>1</td>\n",
       "    </tr>\n",
       "    <tr>\n",
       "      <th>16</th>\n",
       "      <td>71</td>\n",
       "      <td>53.91</td>\n",
       "      <td>0</td>\n",
       "      <td>0</td>\n",
       "      <td>0</td>\n",
       "      <td>0</td>\n",
       "      <td>0</td>\n",
       "      <td>0</td>\n",
       "      <td>0</td>\n",
       "      <td>0</td>\n",
       "      <td>...</td>\n",
       "      <td>0</td>\n",
       "      <td>0</td>\n",
       "      <td>0</td>\n",
       "      <td>0</td>\n",
       "      <td>0</td>\n",
       "      <td>0</td>\n",
       "      <td>0</td>\n",
       "      <td>1</td>\n",
       "      <td>1</td>\n",
       "      <td>1</td>\n",
       "    </tr>\n",
       "    <tr>\n",
       "      <th>19</th>\n",
       "      <td>20</td>\n",
       "      <td>45.64</td>\n",
       "      <td>0</td>\n",
       "      <td>0</td>\n",
       "      <td>0</td>\n",
       "      <td>0</td>\n",
       "      <td>0</td>\n",
       "      <td>0</td>\n",
       "      <td>0</td>\n",
       "      <td>0</td>\n",
       "      <td>...</td>\n",
       "      <td>0</td>\n",
       "      <td>0</td>\n",
       "      <td>0</td>\n",
       "      <td>0</td>\n",
       "      <td>0</td>\n",
       "      <td>1</td>\n",
       "      <td>0</td>\n",
       "      <td>0</td>\n",
       "      <td>1</td>\n",
       "      <td>1</td>\n",
       "    </tr>\n",
       "    <tr>\n",
       "      <th>...</th>\n",
       "      <td>...</td>\n",
       "      <td>...</td>\n",
       "      <td>...</td>\n",
       "      <td>...</td>\n",
       "      <td>...</td>\n",
       "      <td>...</td>\n",
       "      <td>...</td>\n",
       "      <td>...</td>\n",
       "      <td>...</td>\n",
       "      <td>...</td>\n",
       "      <td>...</td>\n",
       "      <td>...</td>\n",
       "      <td>...</td>\n",
       "      <td>...</td>\n",
       "      <td>...</td>\n",
       "      <td>...</td>\n",
       "      <td>...</td>\n",
       "      <td>...</td>\n",
       "      <td>...</td>\n",
       "      <td>...</td>\n",
       "      <td>...</td>\n",
       "    </tr>\n",
       "    <tr>\n",
       "      <th>67586</th>\n",
       "      <td>11</td>\n",
       "      <td>52.52</td>\n",
       "      <td>0</td>\n",
       "      <td>0</td>\n",
       "      <td>0</td>\n",
       "      <td>0</td>\n",
       "      <td>0</td>\n",
       "      <td>1</td>\n",
       "      <td>0</td>\n",
       "      <td>0</td>\n",
       "      <td>...</td>\n",
       "      <td>0</td>\n",
       "      <td>0</td>\n",
       "      <td>0</td>\n",
       "      <td>0</td>\n",
       "      <td>0</td>\n",
       "      <td>0</td>\n",
       "      <td>1</td>\n",
       "      <td>0</td>\n",
       "      <td>1</td>\n",
       "      <td>1</td>\n",
       "    </tr>\n",
       "    <tr>\n",
       "      <th>67590</th>\n",
       "      <td>60</td>\n",
       "      <td>62.40</td>\n",
       "      <td>0</td>\n",
       "      <td>0</td>\n",
       "      <td>0</td>\n",
       "      <td>0</td>\n",
       "      <td>0</td>\n",
       "      <td>1</td>\n",
       "      <td>0</td>\n",
       "      <td>0</td>\n",
       "      <td>...</td>\n",
       "      <td>0</td>\n",
       "      <td>0</td>\n",
       "      <td>0</td>\n",
       "      <td>0</td>\n",
       "      <td>0</td>\n",
       "      <td>0</td>\n",
       "      <td>0</td>\n",
       "      <td>1</td>\n",
       "      <td>1</td>\n",
       "      <td>1</td>\n",
       "    </tr>\n",
       "    <tr>\n",
       "      <th>67594</th>\n",
       "      <td>128</td>\n",
       "      <td>42.45</td>\n",
       "      <td>0</td>\n",
       "      <td>0</td>\n",
       "      <td>0</td>\n",
       "      <td>0</td>\n",
       "      <td>0</td>\n",
       "      <td>1</td>\n",
       "      <td>0</td>\n",
       "      <td>0</td>\n",
       "      <td>...</td>\n",
       "      <td>0</td>\n",
       "      <td>0</td>\n",
       "      <td>0</td>\n",
       "      <td>0</td>\n",
       "      <td>0</td>\n",
       "      <td>0</td>\n",
       "      <td>0</td>\n",
       "      <td>1</td>\n",
       "      <td>0</td>\n",
       "      <td>1</td>\n",
       "    </tr>\n",
       "    <tr>\n",
       "      <th>67598</th>\n",
       "      <td>32</td>\n",
       "      <td>59.81</td>\n",
       "      <td>0</td>\n",
       "      <td>0</td>\n",
       "      <td>0</td>\n",
       "      <td>0</td>\n",
       "      <td>0</td>\n",
       "      <td>1</td>\n",
       "      <td>0</td>\n",
       "      <td>0</td>\n",
       "      <td>...</td>\n",
       "      <td>0</td>\n",
       "      <td>0</td>\n",
       "      <td>0</td>\n",
       "      <td>0</td>\n",
       "      <td>0</td>\n",
       "      <td>0</td>\n",
       "      <td>0</td>\n",
       "      <td>1</td>\n",
       "      <td>1</td>\n",
       "      <td>1</td>\n",
       "    </tr>\n",
       "    <tr>\n",
       "      <th>67603</th>\n",
       "      <td>36</td>\n",
       "      <td>54.38</td>\n",
       "      <td>0</td>\n",
       "      <td>0</td>\n",
       "      <td>0</td>\n",
       "      <td>0</td>\n",
       "      <td>0</td>\n",
       "      <td>1</td>\n",
       "      <td>0</td>\n",
       "      <td>0</td>\n",
       "      <td>...</td>\n",
       "      <td>0</td>\n",
       "      <td>0</td>\n",
       "      <td>0</td>\n",
       "      <td>0</td>\n",
       "      <td>0</td>\n",
       "      <td>0</td>\n",
       "      <td>0</td>\n",
       "      <td>1</td>\n",
       "      <td>1</td>\n",
       "      <td>1</td>\n",
       "    </tr>\n",
       "  </tbody>\n",
       "</table>\n",
       "<p>15652 rows × 33 columns</p>\n",
       "</div>"
      ],
      "text/plain": [
       "       NU_PARTICIPANTES  NU_MEDIA_TOT  SG_UF_ESCOLA_AL  SG_UF_ESCOLA_AM  \\\n",
       "1                   139         57.82                0                0   \n",
       "8                    32         43.73                0                0   \n",
       "11                   26         51.69                0                0   \n",
       "16                   71         53.91                0                0   \n",
       "19                   20         45.64                0                0   \n",
       "...                 ...           ...              ...              ...   \n",
       "67586                11         52.52                0                0   \n",
       "67590                60         62.40                0                0   \n",
       "67594               128         42.45                0                0   \n",
       "67598                32         59.81                0                0   \n",
       "67603                36         54.38                0                0   \n",
       "\n",
       "       SG_UF_ESCOLA_AP  SG_UF_ESCOLA_BA  SG_UF_ESCOLA_CE  SG_UF_ESCOLA_DF  \\\n",
       "1                    0                0                0                0   \n",
       "8                    0                0                0                0   \n",
       "11                   0                0                0                0   \n",
       "16                   0                0                0                0   \n",
       "19                   0                0                0                0   \n",
       "...                ...              ...              ...              ...   \n",
       "67586                0                0                0                1   \n",
       "67590                0                0                0                1   \n",
       "67594                0                0                0                1   \n",
       "67598                0                0                0                1   \n",
       "67603                0                0                0                1   \n",
       "\n",
       "       SG_UF_ESCOLA_ES  SG_UF_ESCOLA_GO  ...  SG_UF_ESCOLA_RS  \\\n",
       "1                    0                0  ...                0   \n",
       "8                    0                0  ...                0   \n",
       "11                   0                0  ...                0   \n",
       "16                   0                0  ...                0   \n",
       "19                   0                0  ...                0   \n",
       "...                ...              ...  ...              ...   \n",
       "67586                0                0  ...                0   \n",
       "67590                0                0  ...                0   \n",
       "67594                0                0  ...                0   \n",
       "67598                0                0  ...                0   \n",
       "67603                0                0  ...                0   \n",
       "\n",
       "       SG_UF_ESCOLA_SC  SG_UF_ESCOLA_SE  SG_UF_ESCOLA_SP  SG_UF_ESCOLA_TO  \\\n",
       "1                    0                0                0                0   \n",
       "8                    0                0                0                0   \n",
       "11                   0                0                0                0   \n",
       "16                   0                0                0                0   \n",
       "19                   0                0                0                0   \n",
       "...                ...              ...              ...              ...   \n",
       "67586                0                0                0                0   \n",
       "67590                0                0                0                0   \n",
       "67594                0                0                0                0   \n",
       "67598                0                0                0                0   \n",
       "67603                0                0                0                0   \n",
       "\n",
       "       PORTE_ESCOLA_De 31 a 60 alunos  PORTE_ESCOLA_De 61 a 90 alunos  \\\n",
       "1                                   0                               0   \n",
       "8                                   0                               1   \n",
       "11                                  1                               0   \n",
       "16                                  0                               0   \n",
       "19                                  1                               0   \n",
       "...                               ...                             ...   \n",
       "67586                               0                               1   \n",
       "67590                               0                               0   \n",
       "67594                               0                               0   \n",
       "67598                               0                               0   \n",
       "67603                               0                               0   \n",
       "\n",
       "       PORTE_ESCOLA_Maior que 90 alunos  TIPO_PV  LOCALIZACAO_Urbana  \n",
       "1                                     1        1                   1  \n",
       "8                                     0        1                   1  \n",
       "11                                    0        1                   1  \n",
       "16                                    1        1                   1  \n",
       "19                                    0        1                   1  \n",
       "...                                 ...      ...                 ...  \n",
       "67586                                 0        1                   1  \n",
       "67590                                 1        1                   1  \n",
       "67594                                 1        0                   1  \n",
       "67598                                 1        1                   1  \n",
       "67603                                 1        1                   1  \n",
       "\n",
       "[15652 rows x 33 columns]"
      ]
     },
     "execution_count": 155,
     "metadata": {},
     "output_type": "execute_result"
    }
   ],
   "source": [
    "dados_dummy"
   ]
  },
  {
   "cell_type": "markdown",
   "id": "89162edc",
   "metadata": {},
   "source": [
    "# Validação - modelo Naive Bayes"
   ]
  },
  {
   "cell_type": "code",
   "execution_count": 96,
   "id": "81216c49",
   "metadata": {},
   "outputs": [
    {
     "data": {
      "text/plain": [
       "0.8062330623306233"
      ]
     },
     "execution_count": 96,
     "metadata": {},
     "output_type": "execute_result"
    }
   ],
   "source": [
    "clf = GaussianNB()\n",
    "clf = clf.fit(X_train, y_train)\n",
    "clf.score(X_test, y_test)"
   ]
  },
  {
   "cell_type": "code",
   "execution_count": 97,
   "id": "95e40d91",
   "metadata": {},
   "outputs": [],
   "source": [
    "predito = clf.predict(X_test)"
   ]
  },
  {
   "cell_type": "code",
   "execution_count": 98,
   "id": "18712a3e",
   "metadata": {},
   "outputs": [
    {
     "data": {
      "text/html": [
       "<div>\n",
       "<style scoped>\n",
       "    .dataframe tbody tr th:only-of-type {\n",
       "        vertical-align: middle;\n",
       "    }\n",
       "\n",
       "    .dataframe tbody tr th {\n",
       "        vertical-align: top;\n",
       "    }\n",
       "\n",
       "    .dataframe thead th {\n",
       "        text-align: right;\n",
       "    }\n",
       "</style>\n",
       "<table border=\"1\" class=\"dataframe\">\n",
       "  <thead>\n",
       "    <tr style=\"text-align: right;\">\n",
       "      <th>TIPO_PV</th>\n",
       "      <th>0</th>\n",
       "      <th>1</th>\n",
       "    </tr>\n",
       "    <tr>\n",
       "      <th>row_0</th>\n",
       "      <th></th>\n",
       "      <th></th>\n",
       "    </tr>\n",
       "  </thead>\n",
       "  <tbody>\n",
       "    <tr>\n",
       "      <th>0</th>\n",
       "      <td>3155</td>\n",
       "      <td>145</td>\n",
       "    </tr>\n",
       "    <tr>\n",
       "      <th>1</th>\n",
       "      <td>856</td>\n",
       "      <td>1010</td>\n",
       "    </tr>\n",
       "  </tbody>\n",
       "</table>\n",
       "</div>"
      ],
      "text/plain": [
       "TIPO_PV     0     1\n",
       "row_0              \n",
       "0        3155   145\n",
       "1         856  1010"
      ]
     },
     "execution_count": 98,
     "metadata": {},
     "output_type": "execute_result"
    }
   ],
   "source": [
    "pd.crosstab(predito, y_test)"
   ]
  },
  {
   "cell_type": "markdown",
   "id": "af352588",
   "metadata": {},
   "source": [
    "# Conclusão"
   ]
  },
  {
   "cell_type": "markdown",
   "id": "7d5c6e29",
   "metadata": {},
   "source": [
    "O intuito do projeto era responder a pergunta : Com base nas variaveis: nº de participantes do ENEM, Estados do Brasil, Média da nota do ENEM, Porte da escola, localização da escola, é possivel prever se uma escola é pública ou privada?. \n",
    "Após a análise exploratória vimos que nossas variáveis features tinham muita relação com a variável Target fornecendo resultados nos quais era possível perceber a diferença entre os tipos de escola. Além disso, cruzamos variáveis features entre si para conseguir dados complementares que ajudassem no entedimento da base de dados e como os dados se relacionam.\n",
    "Em seguida começamos a parte de modelagem. Utilizamos primeiramente um modelo de ÁRVORE DE DECISÃO, utilizado para classificação e regressão. O principal objetivo do modelo era prever a nossa variável \"TIPO\" através da aprendizagem de regras de decisão simples inferidas a partir das características dos dados das outras variáveis features. Começamos utilizando a função dummies, transformando variáveis qualitativas para quantitativas, e logo depois fizemos uma avaliação do modelo com um conjunto de dados de treinamento, para depois usar um conjunto de dados de teste, que iriam avaliar o desempenho do modelo. Esse processo foi realizado pela função \"train_test_split\". Por último, utilizamos a funçã tree.DecisionTreeClassifier e os dados adiquiridos previamente e chegamos em uma acurácia de aproximadamente 94,6%.\n",
    "\n",
    "O segundo modelo que adotamos segue a mesma sintaxe do que o anterior porém outro estilo teórico. O Naive Bayes é um algoritmo de classificação probabilístico que se baseia no teorema de Bayes. Ele faz uma suposição simplificada, assumindo independência entre os atributos (variáveis preditoras) do conjunto de dados.Utilizando o mesmo código e somente trocando a função tree.DecisionTreeClassifier por GaussianNB , chegamos em uma acurácia de 80,6%\n",
    "\n",
    "Com esses dados chegamos a conclusão que o modelo de Árvore de decisão é o mais bem sucedido e responderia a nossa pergunta com menos chances de erros."
   ]
  },
  {
   "cell_type": "markdown",
   "id": "c252cc9b",
   "metadata": {},
   "source": [
    "# Referências"
   ]
  },
  {
   "cell_type": "markdown",
   "id": "1b30653b",
   "metadata": {},
   "source": [
    "https://scikit-learn.org/stable/modules/generated/sklearn.model_selection.train_test_split.html\n",
    "https://scikit-learn.org/stable/modules/tree.html\n",
    "https://scikit-learn.org/stable/modules/generated/sklearn.tree.DecisionTreeClassifier.html#sklearn.tree.DecisionTreeClassifier\n",
    "https://scikit-learn.org/stable/modules/naive_bayes.html\n",
    "https://scikit-learn.org/stable/modules/generated/sklearn.naive_bayes.GaussianNB.html\n",
    "\n",
    "link base de dados:https://www.gov.br/inep/pt-br/acesso-a-informacao/dados-abertos/microdados/enem-por-escola"
   ]
  },
  {
   "cell_type": "code",
   "execution_count": null,
   "id": "b81a8229",
   "metadata": {},
   "outputs": [],
   "source": []
  }
 ],
 "metadata": {
  "kernelspec": {
   "display_name": "Python 3 (ipykernel)",
   "language": "python",
   "name": "python3"
  },
  "language_info": {
   "codemirror_mode": {
    "name": "ipython",
    "version": 3
   },
   "file_extension": ".py",
   "mimetype": "text/x-python",
   "name": "python",
   "nbconvert_exporter": "python",
   "pygments_lexer": "ipython3",
   "version": "3.9.12"
  }
 },
 "nbformat": 4,
 "nbformat_minor": 5
}
